{
 "cells": [
  {
   "cell_type": "markdown",
   "metadata": {},
   "source": [
    "<font size=\"5\">Analysis of Airbnb Data</font>\n",
    "\n",
    "Business Questions:  \n",
    "\n",
    "1. Which features of Airbnb properties are the best indicators for lodging price?\n",
    "2. Does the presence of dogs and cats influence price? \n",
    "3. How well can we predict price?\n",
    "\n",
    "The analyis uses combined Airbnb data from Seattle and Boston. \n",
    "\n",
    "See the README.md file for additional information.\n"
   ]
  },
  {
   "cell_type": "code",
   "execution_count": 86,
   "metadata": {
    "scrolled": true
   },
   "outputs": [
    {
     "name": "stdout",
     "output_type": "stream",
     "text": [
      "<class 'pandas.core.frame.DataFrame'>\n",
      "RangeIndex: 7403 entries, 0 to 7402\n",
      "Data columns (total 95 columns):\n",
      " #   Column                            Non-Null Count  Dtype  \n",
      "---  ------                            --------------  -----  \n",
      " 0   id                                7403 non-null   int64  \n",
      " 1   listing_url                       7403 non-null   object \n",
      " 2   scrape_id                         7403 non-null   int64  \n",
      " 3   last_scraped                      7403 non-null   object \n",
      " 4   name                              7403 non-null   object \n",
      " 5   summary                           7083 non-null   object \n",
      " 6   space                             5777 non-null   object \n",
      " 7   description                       7403 non-null   object \n",
      " 8   experiences_offered               7403 non-null   object \n",
      " 9   neighborhood_overview             4956 non-null   object \n",
      " 10  notes                             3822 non-null   object \n",
      " 11  transit                           5179 non-null   object \n",
      " 12  thumbnail_url                     6484 non-null   object \n",
      " 13  medium_url                        6484 non-null   object \n",
      " 14  picture_url                       7403 non-null   object \n",
      " 15  xl_picture_url                    6484 non-null   object \n",
      " 16  host_id                           7403 non-null   int64  \n",
      " 17  host_url                          7403 non-null   object \n",
      " 18  host_name                         7401 non-null   object \n",
      " 19  host_since                        7401 non-null   object \n",
      " 20  host_location                     7384 non-null   object \n",
      " 21  host_about                        5235 non-null   object \n",
      " 22  host_response_time                6409 non-null   object \n",
      " 23  host_response_rate                6409 non-null   object \n",
      " 24  host_acceptance_rate              6159 non-null   object \n",
      " 25  host_is_superhost                 7401 non-null   object \n",
      " 26  host_thumbnail_url                7401 non-null   object \n",
      " 27  host_picture_url                  7401 non-null   object \n",
      " 28  host_neighbourhood                6764 non-null   object \n",
      " 29  host_listings_count               7401 non-null   float64\n",
      " 30  host_total_listings_count         7401 non-null   float64\n",
      " 31  host_verifications                7403 non-null   object \n",
      " 32  host_has_profile_pic              7401 non-null   object \n",
      " 33  host_identity_verified            7401 non-null   object \n",
      " 34  street                            7403 non-null   object \n",
      " 35  neighbourhood                     6444 non-null   object \n",
      " 36  neighbourhood_cleansed            7403 non-null   object \n",
      " 37  neighbourhood_group_cleansed      3818 non-null   object \n",
      " 38  city                              7401 non-null   object \n",
      " 39  state                             7403 non-null   object \n",
      " 40  zipcode                           7358 non-null   object \n",
      " 41  market                            7389 non-null   object \n",
      " 42  smart_location                    7403 non-null   object \n",
      " 43  country_code                      7403 non-null   object \n",
      " 44  country                           7403 non-null   object \n",
      " 45  latitude                          7403 non-null   float64\n",
      " 46  longitude                         7403 non-null   float64\n",
      " 47  is_location_exact                 7403 non-null   object \n",
      " 48  property_type                     7399 non-null   object \n",
      " 49  room_type                         7403 non-null   object \n",
      " 50  accommodates                      7403 non-null   int64  \n",
      " 51  bathrooms                         7373 non-null   float64\n",
      " 52  bedrooms                          7387 non-null   float64\n",
      " 53  beds                              7393 non-null   float64\n",
      " 54  bed_type                          7403 non-null   object \n",
      " 55  amenities                         7403 non-null   object \n",
      " 56  square_feet                       153 non-null    float64\n",
      " 57  price                             7403 non-null   object \n",
      " 58  weekly_price                      2901 non-null   object \n",
      " 59  monthly_price                     2405 non-null   object \n",
      " 60  security_deposit                  3208 non-null   object \n",
      " 61  cleaning_fee                      5266 non-null   object \n",
      " 62  guests_included                   7403 non-null   int64  \n",
      " 63  extra_people                      7403 non-null   object \n",
      " 64  minimum_nights                    7403 non-null   int64  \n",
      " 65  maximum_nights                    7403 non-null   int64  \n",
      " 66  calendar_updated                  7403 non-null   object \n",
      " 67  has_availability                  3818 non-null   object \n",
      " 68  availability_30                   7403 non-null   int64  \n",
      " 69  availability_60                   7403 non-null   int64  \n",
      " 70  availability_90                   7403 non-null   int64  \n",
      " 71  availability_365                  7403 non-null   int64  \n",
      " 72  calendar_last_scraped             7403 non-null   object \n",
      " 73  number_of_reviews                 7403 non-null   int64  \n",
      " 74  first_review                      6020 non-null   object \n",
      " 75  last_review                       6020 non-null   object \n",
      " 76  review_scores_rating              5943 non-null   float64\n",
      " 77  review_scores_accuracy            5922 non-null   float64\n",
      " 78  review_scores_cleanliness         5932 non-null   float64\n",
      " 79  review_scores_checkin             5925 non-null   float64\n",
      " 80  review_scores_communication       5934 non-null   float64\n",
      " 81  review_scores_location            5926 non-null   float64\n",
      " 82  review_scores_value               5926 non-null   float64\n",
      " 83  requires_license                  7403 non-null   object \n",
      " 84  license                           0 non-null      float64\n",
      " 85  jurisdiction_names                3818 non-null   object \n",
      " 86  instant_bookable                  7403 non-null   object \n",
      " 87  cancellation_policy               7403 non-null   object \n",
      " 88  require_guest_profile_picture     7403 non-null   object \n",
      " 89  require_guest_phone_verification  7403 non-null   object \n",
      " 90  calculated_host_listings_count    7403 non-null   int64  \n",
      " 91  reviews_per_month                 6020 non-null   float64\n",
      " 92  access                            2096 non-null   object \n",
      " 93  interaction                       2031 non-null   object \n",
      " 94  house_rules                       2393 non-null   object \n",
      "dtypes: float64(17), int64(13), object(65)\n",
      "memory usage: 5.4+ MB\n"
     ]
    }
   ],
   "source": [
    "import numpy as np\n",
    "import pandas as pd\n",
    "import re\n",
    "import matplotlib.pyplot as plt\n",
    "from sklearn.linear_model import Ridge\n",
    "from sklearn.model_selection import train_test_split\n",
    "from sklearn.metrics import r2_score\n",
    "%matplotlib inline\n",
    "\n",
    "# Read airbnb datasets\n",
    "df_seattle = pd.read_csv('./data/seattle/listings.csv')\n",
    "df_boston = pd.read_csv('./data/boston/listings.csv')\n",
    "\n",
    "# Combine the two airbnb datasets\n",
    "df = pd.concat([df_seattle, df_boston])\n",
    "df.reset_index(inplace=True, drop=True)\n",
    "\n",
    "# show the info\n",
    "df.info()"
   ]
  },
  {
   "cell_type": "markdown",
   "metadata": {},
   "source": [
    "<font size=\"4\">Data Preparation:</font>\n",
    "\n",
    "The main function for data cleaing is 'clean_data(df)'; see the doumentation string of the function for the steps involved. The 'price' is used as the response variable. For the explanatory variables, missing numerical data is imputed with the mean of the feature and categorical data is converted using one-hot encoding. Most of the categorical variables are included to obtain a full picture, only some were removed after inspection, such as 'zipcode', 'calendar_last_scraped', or 'neighbourhood'. Also removed were descriptive and identifier columns such as 'summary', 'space', 'name', 'listing_url', or 'host_id'."
   ]
  },
  {
   "cell_type": "code",
   "execution_count": 87,
   "metadata": {},
   "outputs": [],
   "source": [
    "# Define small functions for data preparation used in the function\n",
    "# clean_data(df) below.\n",
    "\n",
    "def check_chars(s):\n",
    "    \"\"\"\n",
    "    This function finds tags for prices or percentages in strings.\n",
    "    \n",
    "    INPUT\n",
    "    s - A string\n",
    "    \n",
    "    OUTPUT\n",
    "    True / False - Boolean indicating the existance of '$' and/or '%' in s\n",
    "    \"\"\"    \n",
    "    c=re.search('[\\$\\%]', str(s))\n",
    "    if c:\n",
    "        return True\n",
    "    else:\n",
    "        return False\n",
    "\n",
    "\n",
    "def find_digits(s):\n",
    "    \"\"\"\n",
    "    This function extracts float and int numbers in strings.\n",
    "    \n",
    "    INPUT\n",
    "    s - A string\n",
    "    \n",
    "    OUTPUT\n",
    "    p - Digits as floatingpoint number\n",
    "    s - The input string if no digits where detected\n",
    "    \"\"\"\n",
    "    if check_chars(s):    \n",
    "        p=re.findall('\\d+\\.\\d+', s)\n",
    "        d=re.findall('\\d+', s)\n",
    "        if p:\n",
    "            return float(p[0])\n",
    "        elif d:\n",
    "            return float(d[0])\n",
    "        else:\n",
    "            return float('nan')    \n",
    "    else:\n",
    "        return s\n",
    "\n",
    "def split_amenities(s):\n",
    "    \"\"\"\n",
    "    This function splits and cleans the 'amenities' entries.\n",
    "    \n",
    "    INPUT\n",
    "    s - A string\n",
    "    \n",
    "    OUTPUT\n",
    "    split_lst - A list of the string s splitted at ','\n",
    "    \"\"\"\n",
    "    s_r = re.sub('[} \" {]','',s)\n",
    "    split_lst=s_r.split(',')\n",
    "    return split_lst\n",
    "\n",
    "def create_lst_amenities(col):\n",
    "    \"\"\"\n",
    "    This function returns a set of all occuring amenities\n",
    "    \n",
    "    INPUT\n",
    "    col - A Series object\n",
    "    \n",
    "    OUTPUT\n",
    "    lst_amenities - A set of the levels in col\n",
    "    \"\"\"\n",
    "    lst_amenities=[]\n",
    "    for i in range(col.shape[0]):\n",
    "        lst_split=split_amenities(col.iloc[i])\n",
    "        for am in lst_split:\n",
    "            lst_amenities.append(am)\n",
    "        \n",
    "    return set(lst_amenities)\n",
    "\n",
    "\n",
    "def create_X_amenities(df):\n",
    "    \"\"\"\n",
    "    This function creates a DataFrame for the levels of 'amenities'.\n",
    "    \n",
    "    INPUT\n",
    "    df - A DataFrame object including the feature amenities\n",
    "    \n",
    "    OUTPUT\n",
    "    X_amenities - A DataFrame object with a column for each level of \n",
    "                  amenities\n",
    "    \"\"\"\n",
    "    feature_lst=list(create_lst_amenities(df.amenities))\n",
    "    feature_lst.remove('')\n",
    "    feature_lst.remove('translationmissing:en.hosting_amenity_50')\n",
    "    feature_lst.remove('translationmissing:en.hosting_amenity_49')\n",
    "    \n",
    "    X_amenities = pd.DataFrame(0, index=np.arange(df.shape[0]), columns=feature_lst)\n",
    "\n",
    "    for var in feature_lst:\n",
    "        for idx in range(df.shape[0]):\n",
    "            if var in list(split_amenities(df.iloc[idx]['amenities'])):\n",
    "                X_amenities.iloc[idx][var]=1\n",
    "    \n",
    "    return X_amenities\n",
    "\n"
   ]
  },
  {
   "cell_type": "code",
   "execution_count": 88,
   "metadata": {},
   "outputs": [],
   "source": [
    "# Prepare the data\n",
    "def clean_data(df):\n",
    "    \"\"\"\n",
    "    INPUT\n",
    "    df - Pandas DataFrame \n",
    "    \n",
    "    OUTPUT\n",
    "    X - A matrix holding all of the variables you want to consider when\n",
    "        predicting the response\n",
    "    y - The corresponding response vector\n",
    "    \n",
    "    This function cleans df using the following steps to produce X and y:\n",
    "    1. Drop all the rows with no price\n",
    "    2. Drop all the columns with only NaN values\n",
    "    3. Drop columns with no variability\n",
    "    4. Convert string-digits into float numbers\n",
    "    2. Create X as all the columns that are not the price column\n",
    "    3. Create y as the price column\n",
    "    5. For each null numeric value in X, impute the value with the mean \n",
    "       value of the column\n",
    "    6. Create dummy columns for all the categorical variables in X, \n",
    "       including dummy variables for all the levels in amenities\n",
    "    \"\"\"\n",
    "    \n",
    "    # Drop rows with no price\n",
    "    df = df.dropna(subset=['price'], axis = 0)    \n",
    "    \n",
    "    # Create a separate DataFrame for the levels of the feature amenities.\n",
    "    X_amenities = create_X_amenities(df)\n",
    "    \n",
    "    # Drop columns with NaN for all the values\n",
    "    col_na_lst = list(df.columns[df.isnull().all()])\n",
    "    df.drop(columns=col_na_lst, inplace=True)\n",
    "    \n",
    "    # Drop columns with no variablility\n",
    "    for col in df.columns:\n",
    "        if df[col].value_counts().shape[0]==1:\n",
    "            df.drop(columns=[col], inplace=True)\n",
    "    \n",
    "    # Pull a list of the columns names of the categorical variables\n",
    "    cat_cols_lst = df.select_dtypes(include=['object']).columns\n",
    "    \n",
    "    # Convert digits in strings into float numbers\n",
    "    for col in cat_cols_lst:\n",
    "        df[col]=df[col].apply(find_digits)\n",
    "     \n",
    "    # Pull a list of the columns names of the numerical variables in df\n",
    "    num_cols_list_df = df.select_dtypes(include=['float', 'int']).columns\n",
    "    \n",
    "    # Create explanatory and response variables and fill missing numerical \n",
    "    # values with the mean of the column\n",
    "    fill_mean = lambda col: col.fillna(col.mean())\n",
    "    y=df['price'].copy()\n",
    "    X_cat=df[['state','host_has_profile_pic','host_is_superhost','host_identity_verified',\n",
    "            'is_location_exact','property_type','room_type','bed_type','instant_bookable',\n",
    "            'host_response_time','require_guest_profile_picture',\n",
    "            'require_guest_phone_verification']].copy()\n",
    "\n",
    "    X_num = df[num_cols_list_df].apply(fill_mean)            \n",
    "         \n",
    "    # Create the dummy variables for X_cat\n",
    "    cat_cols_lst_X = X_cat.select_dtypes(include= ['object']).columns\n",
    "    X_dummy=pd.get_dummies(X_cat, columns = cat_cols_lst_X, dummy_na = False)\n",
    "\n",
    "    # Drop individual columns\n",
    "    X_dummy.drop(columns=['property_type_Other', 'state_wa'], inplace=True)\n",
    "   \n",
    "    X_num.drop(columns=['latitude','longitude','price','weekly_price',\n",
    "                        'monthly_price','id','scrape_id','host_id'], inplace=True)    \n",
    "    \n",
    "    # Combine all the features into X\n",
    "    X_combined = pd.concat([X_num, X_amenities, X_dummy],axis = 1, join='inner')\n",
    "    \n",
    "    # Normalize the data\n",
    "    X_combined_norm = (X_combined-X_combined.min())/(X_combined.max()-X_combined.min())\n",
    "    \n",
    "    return X_combined_norm, y\n",
    "    \n",
    "# Use the function to create X and y\n",
    "X, y = clean_data(df)\n"
   ]
  },
  {
   "cell_type": "markdown",
   "metadata": {},
   "source": [
    "<font size=\"4\">Modeling and Evaluation:</font>\n",
    "\n",
    "For modeling the property prices, Ridge regression is applied. To find the optimal model, cutoffs are applied to drop sparse features."
   ]
  },
  {
   "cell_type": "code",
   "execution_count": 89,
   "metadata": {},
   "outputs": [],
   "source": [
    "def features_cutoff(X, y, cutoffs, alpha_ridge, split_frac):\n",
    "    \"\"\"\n",
    "    INPUT:\n",
    "    X - A dataframe object holding all the explanatory variables of interest\n",
    "    y - A series object holding the response variables\n",
    "\n",
    "    OUTPUT:\n",
    "    coefs_df - A dataframe object holding the coefficients found for the optimal model\n",
    "    best_cutoff - The optimal cutoff\n",
    "    best_num_feats - The optimal number of features\n",
    "    lm_model - The best model\n",
    "\n",
    "    This function calcultes the test and train scores as a function of the cutoffs applied, in order to find\n",
    "    the optimal model. The cutoffs determine the minimum of the allowed sum of the values in a column of X.\n",
    "    \"\"\"\n",
    "    num_feats=[]\n",
    "    r2_scores_val=[]\n",
    "    r2_scores_train=[]\n",
    "    for cutoff in cutoffs:\n",
    "        # Reduced X matrix\n",
    "        X_reduced = X.iloc[:, np.where((X.sum()>cutoff)==True)[0]]\n",
    "        num_feats.append(X_reduced.shape[1])\n",
    "        \n",
    "        # Split the data into train and validation sets\n",
    "        X_train, X_val, y_train, y_val = train_test_split(X_reduced, y, test_size = split_frac, random_state = 42)\n",
    "        \n",
    "        # Instantiate, Fit, Predict, Score\n",
    "        lm_model_cut = Ridge(alpha=alpha_ridge, normalize=False)\n",
    "        lm_model_cut.fit(X_train, y_train)\n",
    "        y_val_preds = lm_model_cut.predict(X_val)\n",
    "        y_train_preds = lm_model_cut.predict(X_train)\n",
    "        r2_scores_val.append(r2_score(y_val, y_val_preds))\n",
    "        r2_scores_train.append(r2_score(y_train, y_train_preds))\n",
    "    \n",
    "    # Plot the scores against the number of features\n",
    "    fig, ax = plt.subplots(figsize=(6,4))\n",
    "    ax.plot(num_feats, r2_scores_val, label = 'Val', alpha=.5)\n",
    "    ax.plot(num_feats, r2_scores_train, label = 'Train', alpha=.5)\n",
    "    ax.set_xlabel('Number of features')\n",
    "    ax.set_ylabel('Score')\n",
    "    ax.legend()\n",
    "    \n",
    "    # Obtain the best cutoff and the best number of features\n",
    "    best_cutoff = cutoffs[np.argmax(r2_scores_val)]\n",
    "    best_num_feats = num_feats[np.argmax(r2_scores_val)]\n",
    "    \n",
    "    # Find the coefficients for the best cutoff\n",
    "    lm_model = Ridge(alpha=alpha_ridge, normalize=False)\n",
    "    X_reduced = X.iloc[:, np.where((X.sum()>best_cutoff)==True)[0]]\n",
    "    X_train, X_val, y_train, y_val = train_test_split(X_reduced, y, test_size = split_frac, random_state = 42)\n",
    "    lm_model.fit(X_train, y_train)\n",
    "    columns_best = X_train.columns\n",
    "    coefs_df = pd.DataFrame()\n",
    "    coefs_df['est_int'] = columns_best\n",
    "    coefs_df['abs_coefs'] = np.abs(lm_model.coef_)\n",
    "    coefs_df['coefs'] = lm_model.coef_\n",
    "    coefs_df = coefs_df.sort_values('abs_coefs', ascending = False)\n",
    "    \n",
    "    return coefs_df, best_cutoff, best_num_feats, lm_model, columns_best\n",
    "    \n"
   ]
  },
  {
   "cell_type": "code",
   "execution_count": 90,
   "metadata": {},
   "outputs": [
    {
     "name": "stdout",
     "output_type": "stream",
     "text": [
      "The best cutoff is: 140\n",
      "The best number of features is: 90\n"
     ]
    },
    {
     "data": {
      "image/png": "[encoded data removed]",
      "text/plain": [
       "<Figure size 432x288 with 1 Axes>"
      ]
     },
     "metadata": {
      "needs_background": "light"
     },
     "output_type": "display_data"
    }
   ],
   "source": [
    "# Split the data into train and test\n",
    "X_train_val, X_test, y_train_val, y_test = train_test_split(X, y, test_size = .2, random_state = 42)\n",
    "# set parameters\n",
    "alpha_ridge = 0.1\n",
    "split_frac = 0.3\n",
    "# Find the optimal model based on cuttoffs for the sum of a features values\n",
    "cutoffs = list(range(1, 101, 1)) + list(range(105,305,5)) + list(range(350,2050,50))\n",
    "coefs_df, best_cutoff, best_num_feats, lm_model, columns_best = features_cutoff(X_train_val, y_train_val, cutoffs, alpha_ridge,split_frac)\n",
    "coefs_sort = coefs_df.sort_values('abs_coefs', ascending = False)\n",
    "print('The best cutoff is:', best_cutoff)\n",
    "print('The best number of features is:', best_num_feats)"
   ]
  },
  {
   "cell_type": "markdown",
   "metadata": {},
   "source": [
    "The best cutoff is found to be 140, which corresponds to including the 90 features with the largest sum of values. The findings of the project are based on these 90 features."
   ]
  },
  {
   "cell_type": "markdown",
   "metadata": {},
   "source": [
    "<font size=\"4\">Business Questions:</font>\n",
    "\n",
    "<font size=\"3\">1) First business question </font>\n",
    "\n",
    "Which features of Airbnb properties are the best indicators for price? To answer this question the 20 most influential features are visualized."
   ]
  },
  {
   "cell_type": "code",
   "execution_count": 91,
   "metadata": {},
   "outputs": [
    {
     "data": {
      "image/png": "[encoded data removed]",
      "text/plain": [
       "<Figure size 288x576 with 1 Axes>"
      ]
     },
     "metadata": {
      "needs_background": "light"
     },
     "output_type": "display_data"
    }
   ],
   "source": [
    "# Plot the top neg/pos coefficients found for the optimal model\n",
    "fig, ax = plt.subplots(figsize=(4,8))\n",
    "\n",
    "coef_names = coefs_sort.iloc[:20]['est_int']\n",
    "y_pos = np.arange(len(coef_names))\n",
    "coefs = coefs_sort.iloc[:20]['coefs']\n",
    "\n",
    "ax.barh(y_pos, coefs, align='center', color=(coefs > 0).map({True: (0.1, 0.2, 0.5), False: (0.6, 0.3, 0.1)}))\n",
    "ax.set_yticks(y_pos)\n",
    "ax.set_yticklabels(coef_names, fontsize=12)\n",
    "ax.invert_yaxis()  # Labels top-to-bottom\n",
    "ax.set_xlabel('Coefficients', fontsize=14)\n",
    "ax.set_title('Top neg/pos indicators for price',fontsize=14)\n",
    "plt.xticks(fontsize=12)\n",
    "ax.set_xlim([-100, 200])\n",
    "\n",
    "plt.show()\n"
   ]
  },
  {
   "cell_type": "markdown",
   "metadata": {},
   "source": [
    "The red bars show features with a negative influence on price, the blue bars with a positive influence. The best indicator for a low price is therefore 'review scores value', whereas the best indicator for a high price is 'bedrooms'."
   ]
  },
  {
   "cell_type": "markdown",
   "metadata": {},
   "source": [
    "<font size=\"3\">2) Second business question </font>\n",
    "\n",
    "Does the presence of dogs and cats influence price? "
   ]
  },
  {
   "cell_type": "code",
   "execution_count": 92,
   "metadata": {},
   "outputs": [
    {
     "data": {
      "image/png": "[encoded data removed]",
      "text/plain": [
       "<Figure size 288x108 with 1 Axes>"
      ]
     },
     "metadata": {
      "needs_background": "light"
     },
     "output_type": "display_data"
    },
    {
     "name": "stdout",
     "output_type": "stream",
     "text": [
      "The regresion coefficients are 0.5659246938733323 for Dog(s) and -11.28147117100151 for Cat(s).\n"
     ]
    }
   ],
   "source": [
    "# Plot the coefficients found for Dog(s) and Cat(s) for the optimal model\n",
    "fig, ax = plt.subplots(figsize=(4,1.5))\n",
    "\n",
    "coef_dogs = coefs_sort[coefs_sort['est_int']=='Dog(s)']['coefs'].values[0]\n",
    "coef_cats = coefs_sort[coefs_sort['est_int']=='Cat(s)']['coefs'].values[0]\n",
    "idx_dogs = coefs_sort[coefs_sort['est_int']=='Dog(s)'].index[0]\n",
    "idx_cats = coefs_sort[coefs_sort['est_int']=='Cat(s)'].index[0]\n",
    "\n",
    "coef_names_cats_dogs = coefs_sort.loc[[idx_cats,idx_dogs],:]['est_int']\n",
    "y_pos = np.arange(len(coef_names_cats_dogs))\n",
    "coefs_cats_dogs = coefs_sort.loc[[idx_cats,idx_dogs],:]['coefs']\n",
    "\n",
    "ax.barh(y_pos, coefs_cats_dogs, align='center', color=(coefs_cats_dogs > 0).map({True: (0.1, 0.2, 0.5), False: (0.6, 0.3, 0.1)}))\n",
    "ax.set_yticks(y_pos)\n",
    "ax.set_yticklabels(coef_names_cats_dogs, fontsize=12)\n",
    "ax.invert_yaxis()  # Labels top-to-bottom\n",
    "ax.set_xlabel('Coefficients', fontsize=14)\n",
    "plt.xticks(fontsize=12)\n",
    "ax.set_xlim([-12, 1])\n",
    "\n",
    "plt.show()\n",
    "\n",
    "# Print the coefficients found for Dog(s) and Cat(s)\n",
    "print('The regresion coefficients are {} for Dog(s) and {} for Cat(s).'.format(coef_dogs, coef_cats))\n"
   ]
  },
  {
   "cell_type": "markdown",
   "metadata": {},
   "source": [
    "From the coefficients we can conclude that dogs are a weak indicator for high price, whereas cats clearly are an indicator for low price."
   ]
  },
  {
   "cell_type": "markdown",
   "metadata": {},
   "source": [
    "Why are places with cats cheaper? This question is difficult to answer but we might get some hints from the correlation of the variables 'Cat(s)' and 'Dog(s)' with other variables."
   ]
  },
  {
   "cell_type": "code",
   "execution_count": 93,
   "metadata": {},
   "outputs": [],
   "source": [
    "# We first obtain the correlation matrix and grep the columns for dogs and cats\n",
    "corr_matrix = X.corr()\n",
    "corr_dogs = corr_matrix['Dog(s)']\n",
    "corr_cats = corr_matrix['Cat(s)']"
   ]
  },
  {
   "cell_type": "code",
   "execution_count": 94,
   "metadata": {},
   "outputs": [
    {
     "data": {
      "text/html": [
       "<div>\n",
       "<style scoped>\n",
       "    .dataframe tbody tr th:only-of-type {\n",
       "        vertical-align: middle;\n",
       "    }\n",
       "\n",
       "    .dataframe tbody tr th {\n",
       "        vertical-align: top;\n",
       "    }\n",
       "\n",
       "    .dataframe thead th {\n",
       "        text-align: right;\n",
       "    }\n",
       "</style>\n",
       "<table border=\"1\" class=\"dataframe\">\n",
       "  <thead>\n",
       "    <tr style=\"text-align: right;\">\n",
       "      <th></th>\n",
       "      <th>Dog(s)</th>\n",
       "      <th>Cat(s)</th>\n",
       "      <th>Cat(s)-Dog(s)</th>\n",
       "    </tr>\n",
       "  </thead>\n",
       "  <tbody>\n",
       "    <tr>\n",
       "      <th>Otherpet(s)</th>\n",
       "      <td>0.077706</td>\n",
       "      <td>0.128629</td>\n",
       "      <td>0.050924</td>\n",
       "    </tr>\n",
       "    <tr>\n",
       "      <th>property_type_Yurt</th>\n",
       "      <td>-0.003868</td>\n",
       "      <td>0.040513</td>\n",
       "      <td>0.044381</td>\n",
       "    </tr>\n",
       "    <tr>\n",
       "      <th>room_type_Shared room</th>\n",
       "      <td>-0.032607</td>\n",
       "      <td>0.009556</td>\n",
       "      <td>0.042163</td>\n",
       "    </tr>\n",
       "    <tr>\n",
       "      <th>SuitableforEvents</th>\n",
       "      <td>-0.011929</td>\n",
       "      <td>0.027992</td>\n",
       "      <td>0.039921</td>\n",
       "    </tr>\n",
       "    <tr>\n",
       "      <th>room_type_Private room</th>\n",
       "      <td>0.085483</td>\n",
       "      <td>0.122373</td>\n",
       "      <td>0.036890</td>\n",
       "    </tr>\n",
       "    <tr>\n",
       "      <th>SmokingAllowed</th>\n",
       "      <td>0.039417</td>\n",
       "      <td>0.068513</td>\n",
       "      <td>0.029095</td>\n",
       "    </tr>\n",
       "    <tr>\n",
       "      <th>property_type_House</th>\n",
       "      <td>0.100623</td>\n",
       "      <td>0.129424</td>\n",
       "      <td>0.028801</td>\n",
       "    </tr>\n",
       "  </tbody>\n",
       "</table>\n",
       "</div>"
      ],
      "text/plain": [
       "                          Dog(s)    Cat(s)  Cat(s)-Dog(s)\n",
       "Otherpet(s)             0.077706  0.128629       0.050924\n",
       "property_type_Yurt     -0.003868  0.040513       0.044381\n",
       "room_type_Shared room  -0.032607  0.009556       0.042163\n",
       "SuitableforEvents      -0.011929  0.027992       0.039921\n",
       "room_type_Private room  0.085483  0.122373       0.036890\n",
       "SmokingAllowed          0.039417  0.068513       0.029095\n",
       "property_type_House     0.100623  0.129424       0.028801"
      ]
     },
     "execution_count": 94,
     "metadata": {},
     "output_type": "execute_result"
    }
   ],
   "source": [
    "# We calculate the difference in the correlations between cats and dogs\n",
    "corr_combined_cats = pd.concat([corr_dogs, corr_cats], axis=1, join='inner')\n",
    "corr_combined_cats['Cat(s)-Dog(s)'] = corr_combined_cats['Cat(s)']- corr_combined_cats['Dog(s)']\n",
    "# show the sorted correlation matrix for the difference in correlations\n",
    "vars_cat = corr_combined_cats.sort_values(by=['Cat(s)-Dog(s)'],ascending=False)[1:8]\n",
    "vars_cat"
   ]
  },
  {
   "cell_type": "markdown",
   "metadata": {},
   "source": [
    "The sorted column 'Cat(s)-Dog(s)' reveals which features the 'Cat(s)' variable correlates most with relative to the 'Dog(s)' variable. Let's do the same for the 'Dog(s)' by using 'Dog(s)-Cat(s)':\n"
   ]
  },
  {
   "cell_type": "code",
   "execution_count": 95,
   "metadata": {},
   "outputs": [
    {
     "data": {
      "text/html": [
       "<div>\n",
       "<style scoped>\n",
       "    .dataframe tbody tr th:only-of-type {\n",
       "        vertical-align: middle;\n",
       "    }\n",
       "\n",
       "    .dataframe tbody tr th {\n",
       "        vertical-align: top;\n",
       "    }\n",
       "\n",
       "    .dataframe thead th {\n",
       "        text-align: right;\n",
       "    }\n",
       "</style>\n",
       "<table border=\"1\" class=\"dataframe\">\n",
       "  <thead>\n",
       "    <tr style=\"text-align: right;\">\n",
       "      <th></th>\n",
       "      <th>Dog(s)</th>\n",
       "      <th>Cat(s)</th>\n",
       "      <th>Dog(s)-Cat(s)</th>\n",
       "    </tr>\n",
       "  </thead>\n",
       "  <tbody>\n",
       "    <tr>\n",
       "      <th>PetsAllowed</th>\n",
       "      <td>0.160526</td>\n",
       "      <td>0.018437</td>\n",
       "      <td>0.142089</td>\n",
       "    </tr>\n",
       "    <tr>\n",
       "      <th>Petsliveonthisproperty</th>\n",
       "      <td>0.700447</td>\n",
       "      <td>0.602150</td>\n",
       "      <td>0.098297</td>\n",
       "    </tr>\n",
       "    <tr>\n",
       "      <th>IndoorFireplace</th>\n",
       "      <td>0.092430</td>\n",
       "      <td>0.034685</td>\n",
       "      <td>0.057745</td>\n",
       "    </tr>\n",
       "    <tr>\n",
       "      <th>property_type_Tent</th>\n",
       "      <td>0.043416</td>\n",
       "      <td>-0.007459</td>\n",
       "      <td>0.050874</td>\n",
       "    </tr>\n",
       "    <tr>\n",
       "      <th>room_type_Entire home/apt</th>\n",
       "      <td>-0.073194</td>\n",
       "      <td>-0.123531</td>\n",
       "      <td>0.050338</td>\n",
       "    </tr>\n",
       "    <tr>\n",
       "      <th>property_type_Camper/RV</th>\n",
       "      <td>0.047785</td>\n",
       "      <td>-0.000759</td>\n",
       "      <td>0.048544</td>\n",
       "    </tr>\n",
       "    <tr>\n",
       "      <th>Family/KidFriendly</th>\n",
       "      <td>0.029870</td>\n",
       "      <td>-0.017207</td>\n",
       "      <td>0.047077</td>\n",
       "    </tr>\n",
       "  </tbody>\n",
       "</table>\n",
       "</div>"
      ],
      "text/plain": [
       "                             Dog(s)    Cat(s)  Dog(s)-Cat(s)\n",
       "PetsAllowed                0.160526  0.018437       0.142089\n",
       "Petsliveonthisproperty     0.700447  0.602150       0.098297\n",
       "IndoorFireplace            0.092430  0.034685       0.057745\n",
       "property_type_Tent         0.043416 -0.007459       0.050874\n",
       "room_type_Entire home/apt -0.073194 -0.123531       0.050338\n",
       "property_type_Camper/RV    0.047785 -0.000759       0.048544\n",
       "Family/KidFriendly         0.029870 -0.017207       0.047077"
      ]
     },
     "execution_count": 95,
     "metadata": {},
     "output_type": "execute_result"
    }
   ],
   "source": [
    "# We calculate the difference in the correlations between dogs and cats\n",
    "corr_combined_dogs = pd.concat([corr_dogs, corr_cats], axis=1, join='inner')\n",
    "corr_combined_dogs['Dog(s)-Cat(s)'] = corr_combined_dogs['Dog(s)']- corr_combined_dogs['Cat(s)']\n",
    "# show the sorted correlation matrix for the difference in correlations\n",
    "vars_dog = corr_combined_dogs.sort_values(by=['Dog(s)-Cat(s)'],ascending=False)[1:8]\n",
    "vars_dog"
   ]
  },
  {
   "cell_type": "markdown",
   "metadata": {},
   "source": [
    "There are some differences that are interesting. Cats relate to variables such as 'Shared room', 'Yurt', 'Suitable for events', and 'Smoking allowed'. Dogs on the other hand relate to variables such as 'Indoor Fireplace', 'Family Friendly', 'CableTV', and 'Camper'. It is likely that the porperties with cats or dogs are different in average and that these variables express this indirectly. Therefore the cats do not necessarily cause low prices, the variable 'Cat(s)' rather catches a hidden feature that often comes together with cats. "
   ]
  },
  {
   "cell_type": "markdown",
   "metadata": {},
   "source": [
    "<font size=\"3\">3) Third business question</font>\n",
    "\n",
    "How well can we predict price?\n",
    "    \n",
    "To answer this question the model is **deployed** and the R-squared score is calculated for predicting lodging prices on the test set."
   ]
  },
  {
   "cell_type": "code",
   "execution_count": 96,
   "metadata": {},
   "outputs": [
    {
     "name": "stdout",
     "output_type": "stream",
     "text": [
      "The R-squared score for the test set is: 0.5807287467762039\n"
     ]
    }
   ],
   "source": [
    "# Make predictions on the test set and evaluate the R-squared score\n",
    "X_test_red=X_test.loc[:,columns_best]\n",
    "y_test_preds = lm_model.predict(X_test_red)\n",
    "r2_test = r2_score(y_test, y_test_preds)\n",
    "print('The R-squared score for the test set is:', r2_test)"
   ]
  },
  {
   "cell_type": "markdown",
   "metadata": {},
   "source": [
    "The R-squared score is 0.58, which indicates that 58% of the variability in the price is explained by explanatory variables such as amenities, room/property type or state. The model therefore explains the variability of the prices only moderately well. Here only a linear regression model was applied, other model might explain the variability better."
   ]
  },
  {
   "cell_type": "code",
   "execution_count": null,
   "metadata": {},
   "outputs": [],
   "source": []
  }
 ],
 "metadata": {
  "kernelspec": {
   "display_name": "Python 3 (ipykernel)",
   "language": "python",
   "name": "python3"
  },
  "language_info": {
   "codemirror_mode": {
    "name": "ipython",
    "version": 3
   },
   "file_extension": ".py",
   "mimetype": "text/x-python",
   "name": "python",
   "nbconvert_exporter": "python",
   "pygments_lexer": "ipython3",
   "version": "3.9.5"
  }
 },
 "nbformat": 4,
 "nbformat_minor": 4
}
