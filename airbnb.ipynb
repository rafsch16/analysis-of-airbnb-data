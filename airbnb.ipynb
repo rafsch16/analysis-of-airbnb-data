{
 "cells": [
  {
   "cell_type": "markdown",
   "metadata": {},
   "source": [
    "<font size=\"5\">Analysis of Airbnb Data</font>\n",
    "\n",
    "Business Questions:  \n",
    "\n",
    "1. Which features of Airbnb properties are the best indicators for lodging price?\n",
    "2. Does the presence of dogs and cats influence price? \n",
    "3. How well can we predict price?\n",
    "\n",
    "The analyis uses combined Airbnb data from Seattle and Boston. \n",
    "\n",
    "See the README.md file for additional information.\n"
   ]
  },
  {
   "cell_type": "code",
   "execution_count": 144,
   "metadata": {
    "scrolled": true
   },
   "outputs": [],
   "source": [
    "import numpy as np\n",
    "import pandas as pd\n",
    "import re\n",
    "import matplotlib.pyplot as plt\n",
    "from sklearn.linear_model import Ridge\n",
    "from sklearn.model_selection import train_test_split\n",
    "from sklearn.metrics import r2_score\n",
    "%matplotlib inline\n",
    "\n",
    "# Read airbnb datasets\n",
    "df_seattle = pd.read_csv('./data/seattle/listings.csv')\n",
    "df_boston = pd.read_csv('./data/boston/listings.csv')\n",
    "\n",
    "# Combine the two airbnb datasets\n",
    "df = pd.concat([df_seattle, df_boston])\n",
    "df.reset_index(inplace=True, drop=True)"
   ]
  },
  {
   "cell_type": "markdown",
   "metadata": {},
   "source": [
    "<font size=\"4\">Data Preparation:</font>\n",
    "\n",
    "The main function for data cleaing is 'clean_data(df)'; see the doumentation string of the function for the steps involved. The 'price' is used as the response variable. For the explanatory variables, missing numerical data is imputed with the mean of the feature and categorical data is converted using one-hot encoding. "
   ]
  },
  {
   "cell_type": "code",
   "execution_count": 145,
   "metadata": {},
   "outputs": [],
   "source": [
    "# Define small functions for data preparation used in the function\n",
    "# clean_data(df) below.\n",
    "\n",
    "def check_chars(s):\n",
    "    \"\"\"\n",
    "    This function finds tags for prices or percentages in strings.\n",
    "    \n",
    "    INPUT\n",
    "    s - A string\n",
    "    \n",
    "    OUTPUT\n",
    "    True / False - Boolean indicating the existance of '$' and/or '%' in s\n",
    "    \"\"\"    \n",
    "    c=re.search('[\\$\\%]', str(s))\n",
    "    if c:\n",
    "        return True\n",
    "    else:\n",
    "        return False\n",
    "\n",
    "\n",
    "def find_digits(s):\n",
    "    \"\"\"\n",
    "    This function extracts float and int numbers in strings.\n",
    "    \n",
    "    INPUT\n",
    "    s - A string\n",
    "    \n",
    "    OUTPUT\n",
    "    p - Digits as floatingpoint number\n",
    "    s - The input string if no digits where detected\n",
    "    \"\"\"\n",
    "    if check_chars(s):    \n",
    "        p=re.findall('\\d+\\.\\d+', s)\n",
    "        d=re.findall('\\d+', s)\n",
    "        if p:\n",
    "            return float(p[0])\n",
    "        elif d:\n",
    "            return float(d[0])\n",
    "        else:\n",
    "            return float('nan')    \n",
    "    else:\n",
    "        return s\n",
    "\n",
    "def split_amenities(s):\n",
    "    \"\"\"\n",
    "    This function splits and cleans the 'amenities' entries.\n",
    "    \n",
    "    INPUT\n",
    "    s - A string\n",
    "    \n",
    "    OUTPUT\n",
    "    split_lst - A list of the string s splitted at ','\n",
    "    \"\"\"\n",
    "    s_r = re.sub('[} \" {]','',s)\n",
    "    split_lst=s_r.split(',')\n",
    "    return split_lst\n",
    "\n",
    "def create_lst_amenities(col):\n",
    "    \"\"\"\n",
    "    This function returns a set of all occuring amenities\n",
    "    \n",
    "    INPUT\n",
    "    col - A Series object\n",
    "    \n",
    "    OUTPUT\n",
    "    lst_amenities - A set of the levels in col\n",
    "    \"\"\"\n",
    "    lst_amenities=[]\n",
    "    for i in range(col.shape[0]):\n",
    "        lst_split=split_amenities(col.iloc[i])\n",
    "        for am in lst_split:\n",
    "            lst_amenities.append(am)\n",
    "        \n",
    "    return set(lst_amenities)\n",
    "\n",
    "\n",
    "def create_X_amenities(df):\n",
    "    \"\"\"\n",
    "    This function creates a DataFrame for the levels of 'amenities'.\n",
    "    \n",
    "    INPUT\n",
    "    df - A DataFrame object including the feature amenities\n",
    "    \n",
    "    OUTPUT\n",
    "    X_amenities - A DataFrame object with a column for each level of \n",
    "                  amenities\n",
    "    \"\"\"\n",
    "    feature_lst=list(create_lst_amenities(df.amenities))\n",
    "    feature_lst.remove('')\n",
    "    feature_lst.remove('translationmissing:en.hosting_amenity_50')\n",
    "    feature_lst.remove('translationmissing:en.hosting_amenity_49')\n",
    "\n",
    "    X_amenities = pd.DataFrame(0, index=np.arange(df.shape[0]), columns=feature_lst)\n",
    "\n",
    "    for var in feature_lst:\n",
    "        for idx in range(df.shape[0]):\n",
    "            if var in list(split_amenities(df.iloc[idx]['amenities'])):\n",
    "                X_amenities.iloc[idx][var]=1\n",
    "    \n",
    "    return X_amenities\n",
    "\n",
    "\n"
   ]
  },
  {
   "cell_type": "code",
   "execution_count": 146,
   "metadata": {},
   "outputs": [],
   "source": [
    "# Prepare the data\n",
    "def clean_data(df):\n",
    "    \"\"\"\n",
    "    INPUT\n",
    "    df - Pandas DataFrame \n",
    "    \n",
    "    OUTPUT\n",
    "    X - A matrix holding all of the variables you want to consider when\n",
    "        predicting the response\n",
    "    y - The corresponding response vector\n",
    "    \n",
    "    This function cleans df using the following steps to produce X and y:\n",
    "    1. Drop all the rows with no price\n",
    "    2. Drop all the columns with only NaN values\n",
    "    3. Drop columns with no variability\n",
    "    4. Convert string-digits into float numbers\n",
    "    2. Create X as all the columns that are not the price column\n",
    "    3. Create y as the price column\n",
    "    5. For each null numeric value in X, impute the value with the mean \n",
    "       value of the column\n",
    "    6. Create dummy columns for all the categorical variables in X, \n",
    "       including dummy variables for all the levels in amenities\n",
    "    \"\"\"\n",
    "    \n",
    "    # Drop rows with no price\n",
    "    df = df.dropna(subset=['price'], axis = 0)    \n",
    "    \n",
    "    # Create a separate DataFrame for the levels of the feature amenities.\n",
    "    X_amenities = create_X_amenities(df)\n",
    "    \n",
    "    # Drop columns with NaN for all the values\n",
    "    col_na_lst = list(df.columns[df.isnull().all()])\n",
    "    df.drop(columns=col_na_lst, inplace=True)\n",
    "    \n",
    "    # Drop columns with no variablility\n",
    "    for col in df.columns:\n",
    "        if df[col].value_counts().shape[0]==1:\n",
    "            df.drop(columns=[col], inplace=True)\n",
    "    \n",
    "    # Pull a list of the columns names of the categorical variables\n",
    "    cat_cols_lst = df.select_dtypes(include=['object']).columns\n",
    "    \n",
    "    # Convert digits in strings into float numbers\n",
    "    for col in cat_cols_lst:\n",
    "        df[col]=df[col].apply(find_digits)\n",
    "     \n",
    "    # Pull a list of the columns names of the numerical variables in df\n",
    "    num_cols_list_df = df.select_dtypes(include=['float', 'int']).columns\n",
    "    \n",
    "    ######\n",
    "    # Calculate the percentage of null values in numerical features and if rows with null values in numerical data also have\n",
    "    # more null data in other columns\n",
    "    # CODE HERE\n",
    "    \n",
    "    # Create explanatory and response variables and fill missing numerical \n",
    "    # values with the mean of the column\n",
    "    fill_mean = lambda col: col.fillna(col.mean())\n",
    "    y=df['price'].copy()\n",
    "    X_cat=df[['property_type','room_type','state']].copy()\n",
    "    X_num = df[num_cols_list_df].apply(fill_mean)            \n",
    "         \n",
    "    # Create the dummy variables for X_cat\n",
    "    cat_cols_lst_X = X_cat.select_dtypes(include= ['object']).columns\n",
    "    X_dummy=pd.get_dummies(X_cat, columns = cat_cols_lst_X, dummy_na = False)\n",
    "\n",
    "    \n",
    "    # Drop individual columns\n",
    "    X_dummy.drop(columns=['property_type_Other', 'state_wa'], inplace=True)\n",
    "    X_num.drop(columns=['latitude','longitude','host_response_rate',\n",
    "                        'host_acceptance_rate','price','weekly_price',\n",
    "                        'monthly_price'], inplace=True)    \n",
    "    \n",
    "    # Combine all the features into X\n",
    "    X_combined = pd.concat([X_num, X_amenities, X_dummy],axis = 1, join='inner')\n",
    "    \n",
    "    return X_combined, y \n",
    "    \n",
    "# Use the function to create X and y\n",
    "X, y = clean_data(df)\n"
   ]
  },
  {
   "cell_type": "markdown",
   "metadata": {},
   "source": [
    "<font size=\"4\">Modeling and Evaluation:</font>\n",
    "\n",
    "For modeling the property prices, Ridge regression is applied. To find the optimal model, cutoffs are applied to drop sparse features."
   ]
  },
  {
   "cell_type": "code",
   "execution_count": 147,
   "metadata": {},
   "outputs": [],
   "source": [
    "def features_cutoff(X, y, cutoffs):\n",
    "    \"\"\"\n",
    "    INPUT:\n",
    "    X - A dataframe object holding all the explanatory variables of interest\n",
    "    y - A series object holding the response variables\n",
    "\n",
    "    OUTPUT:\n",
    "    coefs_df - A dataframe object holding the coefficients found for the optimal model\n",
    "    best_cutoff - The optimal cutoff\n",
    "    best_num_feats - The optimal number of features\n",
    "    lm_model - The best model\n",
    "\n",
    "    This function calcultes the test and train scores as a function of the cutoffs applied, in order to find\n",
    "    the optimal model. The cutoffs determine the minimum of the allowed sum of the values in a column of X.\n",
    "    \"\"\"\n",
    "    num_feats=[]\n",
    "    r2_scores_test=[]\n",
    "    r2_scores_train=[]\n",
    "    for cutoff in cutoffs:\n",
    "        # Reduced X matrix\n",
    "        X_reduced = X.iloc[:, np.where((X.sum()>cutoff)==True)[0]]\n",
    "        num_feats.append(X_reduced.shape[1])\n",
    "        \n",
    "        # Split the data into train and test\n",
    "        X_train, X_test, y_train, y_test = train_test_split(X_reduced, y, test_size = .3, random_state = 42)\n",
    "        \n",
    "        # Instantiate, Fit, Predict, Score\n",
    "        lm_model_cut = Ridge(alpha=0.1, normalize=True)\n",
    "        lm_model_cut.fit(X_train, y_train)\n",
    "        y_test_preds = lm_model_cut.predict(X_test)\n",
    "        y_train_preds = lm_model_cut.predict(X_train)\n",
    "        r2_scores_test.append(r2_score(y_test, y_test_preds))\n",
    "        r2_scores_train.append(r2_score(y_train, y_train_preds))\n",
    "    \n",
    "    # Plot the scores against the number of features\n",
    "    fig, ax = plt.subplots(figsize=(6,4))\n",
    "    ax.plot(num_feats, r2_scores_test, label = 'Test', alpha=.5)\n",
    "    ax.plot(num_feats, r2_scores_train, label = 'Train', alpha=.5)\n",
    "    ax.set_xlabel('Number of features')\n",
    "    ax.set_ylabel('Score')\n",
    "    ax.legend()\n",
    "    \n",
    "    # Obtain the best cutoff and the best number of features\n",
    "    best_cutoff = cutoffs[np.argmax(r2_scores_test)]\n",
    "    best_num_feats = num_feats[np.argmax(r2_scores_test)]\n",
    "    \n",
    "    # Find the coefficients for the best cutoff\n",
    "    lm_model = Ridge(alpha=0.1, normalize=True)\n",
    "    X_reduced = X.iloc[:, np.where((X.sum()>best_cutoff)==True)[0]]\n",
    "    X_train, X_test, y_train, y_test = train_test_split(X_reduced, y, test_size = .3, random_state = 42)\n",
    "    lm_model.fit(X_train, y_train)\n",
    "    coefs_df = pd.DataFrame()\n",
    "    coefs_df['est_int'] = X_train.columns\n",
    "    coefs_df['abs_coefs'] = np.abs(lm_model.coef_)\n",
    "    coefs_df['coefs'] = lm_model.coef_\n",
    "    coefs_df = coefs_df.sort_values('abs_coefs', ascending = False)\n",
    "    \n",
    "    return coefs_df, best_cutoff, best_num_feats, lm_model, X_test, y_test\n",
    "    \n"
   ]
  },
  {
   "cell_type": "code",
   "execution_count": 148,
   "metadata": {},
   "outputs": [
    {
     "name": "stdout",
     "output_type": "stream",
     "text": [
      "The best cutoff is: 175\n",
      "The best number of features is: 77\n"
     ]
    },
    {
     "data": {
      "image/png": "[encoded data removed]",
      "text/plain": [
       "<Figure size 432x288 with 1 Axes>"
      ]
     },
     "metadata": {
      "needs_background": "light"
     },
     "output_type": "display_data"
    }
   ],
   "source": [
    "# Find the optimal model based on cuttoffs for the sum of a features values\n",
    "cutoffs=[20000, 15000, 10000, 9000, 8000, 7000 , 6000 , 5000, 4000, 3500, 3000, 2500, 2000, 1500, 1000, 750, 500, 400,\n",
    "         300, 250, 200, 175, 150, 125, 100, 90, 80, 70, 60, 50]\n",
    "coefs_df, best_cutoff, best_num_feats, lm_model, X_test, y_test = features_cutoff(X, y, cutoffs)\n",
    "coefs_sort = coefs_df.sort_values('abs_coefs', ascending = False)\n",
    "print('The best cutoff is:', best_cutoff)\n",
    "print('The best number of features is:', best_num_feats)"
   ]
  },
  {
   "cell_type": "markdown",
   "metadata": {},
   "source": [
    "The best cutoff is found to be 175, which corresponds to including the 77 features with the largest sum of values. The findings of the project are based on these 77 features."
   ]
  },
  {
   "cell_type": "markdown",
   "metadata": {},
   "source": [
    "<font size=\"4\">Business Questions:</font>\n",
    "\n",
    "<font size=\"3\">1) First business question </font>\n",
    "\n",
    "Which features of Airbnb properties are the best indicators for price? To answer this question the 15 most influential features are visualized."
   ]
  },
  {
   "cell_type": "code",
   "execution_count": 149,
   "metadata": {},
   "outputs": [
    {
     "data": {
      "image/png": "[encoded data removed]",
      "text/plain": [
       "<Figure size 288x432 with 1 Axes>"
      ]
     },
     "metadata": {
      "needs_background": "light"
     },
     "output_type": "display_data"
    }
   ],
   "source": [
    "# Plot the top neg/pos coefficients found for the optimal model\n",
    "fig, ax = plt.subplots(figsize=(4,6))\n",
    "\n",
    "comb = coefs_sort.iloc[:15]['est_int']\n",
    "y_pos = np.arange(len(comb))\n",
    "coefs = coefs_sort.iloc[:15]['coefs']\n",
    "\n",
    "ax.barh(y_pos, coefs, align='center', color=(coefs > 0).map({True: (0.1, 0.2, 0.5), False: (0.6, 0.3, 0.1)}))\n",
    "ax.set_yticks(y_pos)\n",
    "ax.set_yticklabels(comb, fontsize=12)\n",
    "ax.invert_yaxis()  # Labels top-to-bottom\n",
    "ax.set_xlabel('Coefficients', fontsize=14)\n",
    "ax.set_title('Top neg/pos indicators for price',fontsize=14)\n",
    "plt.xticks(fontsize=12)\n",
    "ax.set_xlim([-40, 40])\n",
    "\n",
    "plt.show()"
   ]
  },
  {
   "cell_type": "markdown",
   "metadata": {},
   "source": [
    "The red bars show features with a negative influence on price, the blue bars with a positive influence. The best indicator for a low price is therefore 'shared room', whereas the best indicator for a high price is 'home/apartment'."
   ]
  },
  {
   "cell_type": "markdown",
   "metadata": {},
   "source": [
    "<font size=\"3\">2) Second business question </font>\n",
    "\n",
    "Does the presence of dogs and cats influence price? "
   ]
  },
  {
   "cell_type": "code",
   "execution_count": 150,
   "metadata": {},
   "outputs": [
    {
     "data": {
      "image/png": "[encoded data removed]",
      "text/plain": [
       "<Figure size 288x57.6 with 1 Axes>"
      ]
     },
     "metadata": {
      "needs_background": "light"
     },
     "output_type": "display_data"
    },
    {
     "name": "stdout",
     "output_type": "stream",
     "text": [
      "The regresion coefficients are 3.756851348211987 for Dog(s) and -4.840358639206088 for Cat(s).\n"
     ]
    }
   ],
   "source": [
    "# Plot the efficients found for Dog(s) and Cat(s) the optimal model\n",
    "fig, ax = plt.subplots(figsize=(4,0.8))\n",
    "\n",
    "comb_cats_dogs = coefs_sort.iloc[[25,33],:]['est_int']\n",
    "y_pos = np.arange(len(comb_cats_dogs))\n",
    "coefs_cats_dogs = coefs_sort.iloc[[25,33],:]['coefs']\n",
    "\n",
    "ax.barh(y_pos, coefs_cats_dogs, align='center', color=(coefs_cats_dogs > 0).map({True: (0.1, 0.2, 0.5), False: (0.6, 0.3, 0.1)}))\n",
    "ax.set_yticks(y_pos)\n",
    "ax.set_yticklabels(comb_cats_dogs, fontsize=12)\n",
    "ax.invert_yaxis()  # Labels top-to-bottom\n",
    "ax.set_xlabel('Coefficients', fontsize=14)\n",
    "ax.set_title('Cats/Dogs as indicators for price',fontsize=14)\n",
    "plt.xticks(fontsize=12)\n",
    "ax.set_xlim([-6, 6])\n",
    "\n",
    "plt.show()\n",
    "\n",
    "# Print the coefficients found for Dog(s) and Cat(s)\n",
    "coef_dogs = coefs_sort[coefs_sort['est_int']=='Dog(s)']['coefs'].values[0]\n",
    "coef_cats = coefs_sort[coefs_sort['est_int']=='Cat(s)']['coefs'].values[0]\n",
    "\n",
    "print('The regresion coefficients are {} for Dog(s) and {} for Cat(s).'.format(coef_dogs, coef_cats))"
   ]
  },
  {
   "cell_type": "markdown",
   "metadata": {},
   "source": [
    "From the coefficients we can conclude that dogs are an indicator for higher price, whereas the presence of cats indicates lower price."
   ]
  },
  {
   "cell_type": "markdown",
   "metadata": {},
   "source": [
    "Are people willing to pay higher prices due to the presence of dogs? For reasons of discussing correlation and causation we are going to have a look at our top indicators for price and how they correlate with the features 'Dog(s)' and 'Cat(s)'."
   ]
  },
  {
   "cell_type": "code",
   "execution_count": 151,
   "metadata": {},
   "outputs": [],
   "source": [
    "# We first obtain the correlation matrix and grep the columns for dogs and cats\n",
    "corr_matrix = X.corr()\n",
    "corr_dogs = corr_matrix['Dog(s)'].sort_values(ascending=False)\n",
    "corr_cats = corr_matrix['Cat(s)'].sort_values(ascending=False)"
   ]
  },
  {
   "cell_type": "code",
   "execution_count": 152,
   "metadata": {},
   "outputs": [
    {
     "data": {
      "text/html": [
       "<div>\n",
       "<style scoped>\n",
       "    .dataframe tbody tr th:only-of-type {\n",
       "        vertical-align: middle;\n",
       "    }\n",
       "\n",
       "    .dataframe tbody tr th {\n",
       "        vertical-align: top;\n",
       "    }\n",
       "\n",
       "    .dataframe thead th {\n",
       "        text-align: right;\n",
       "    }\n",
       "</style>\n",
       "<table border=\"1\" class=\"dataframe\">\n",
       "  <thead>\n",
       "    <tr style=\"text-align: right;\">\n",
       "      <th></th>\n",
       "      <th>Dog(s)</th>\n",
       "      <th>Cat(s)</th>\n",
       "      <th>Dog(s)-Cat(s)</th>\n",
       "    </tr>\n",
       "  </thead>\n",
       "  <tbody>\n",
       "    <tr>\n",
       "      <th>room_type_Shared room</th>\n",
       "      <td>-0.032607</td>\n",
       "      <td>0.009556</td>\n",
       "      <td>-0.042163</td>\n",
       "    </tr>\n",
       "    <tr>\n",
       "      <th>room_type_Entire home/apt</th>\n",
       "      <td>-0.073194</td>\n",
       "      <td>-0.123531</td>\n",
       "      <td>0.050338</td>\n",
       "    </tr>\n",
       "    <tr>\n",
       "      <th>bedrooms</th>\n",
       "      <td>0.001076</td>\n",
       "      <td>-0.027177</td>\n",
       "      <td>0.028253</td>\n",
       "    </tr>\n",
       "    <tr>\n",
       "      <th>room_type_Private room</th>\n",
       "      <td>0.085483</td>\n",
       "      <td>0.122373</td>\n",
       "      <td>-0.036890</td>\n",
       "    </tr>\n",
       "    <tr>\n",
       "      <th>bathrooms</th>\n",
       "      <td>-0.012736</td>\n",
       "      <td>-0.023037</td>\n",
       "      <td>0.010301</td>\n",
       "    </tr>\n",
       "    <tr>\n",
       "      <th>Doorman</th>\n",
       "      <td>-0.046953</td>\n",
       "      <td>-0.037893</td>\n",
       "      <td>-0.009060</td>\n",
       "    </tr>\n",
       "    <tr>\n",
       "      <th>ElevatorinBuilding</th>\n",
       "      <td>-0.100460</td>\n",
       "      <td>-0.079183</td>\n",
       "      <td>-0.021277</td>\n",
       "    </tr>\n",
       "    <tr>\n",
       "      <th>FreeParkingonPremises</th>\n",
       "      <td>0.138818</td>\n",
       "      <td>0.114192</td>\n",
       "      <td>0.024626</td>\n",
       "    </tr>\n",
       "    <tr>\n",
       "      <th>AirConditioning</th>\n",
       "      <td>-0.093668</td>\n",
       "      <td>-0.093930</td>\n",
       "      <td>0.000262</td>\n",
       "    </tr>\n",
       "    <tr>\n",
       "      <th>state_MA</th>\n",
       "      <td>-0.115834</td>\n",
       "      <td>-0.093443</td>\n",
       "      <td>-0.022390</td>\n",
       "    </tr>\n",
       "    <tr>\n",
       "      <th>state_WA</th>\n",
       "      <td>0.115923</td>\n",
       "      <td>0.093520</td>\n",
       "      <td>0.022403</td>\n",
       "    </tr>\n",
       "    <tr>\n",
       "      <th>Pool</th>\n",
       "      <td>-0.039526</td>\n",
       "      <td>-0.015710</td>\n",
       "      <td>-0.023817</td>\n",
       "    </tr>\n",
       "    <tr>\n",
       "      <th>Kitchen</th>\n",
       "      <td>-0.081289</td>\n",
       "      <td>-0.055994</td>\n",
       "      <td>-0.025295</td>\n",
       "    </tr>\n",
       "    <tr>\n",
       "      <th>review_scores_location</th>\n",
       "      <td>0.011457</td>\n",
       "      <td>-0.014121</td>\n",
       "      <td>0.025579</td>\n",
       "    </tr>\n",
       "    <tr>\n",
       "      <th>IndoorFireplace</th>\n",
       "      <td>0.092430</td>\n",
       "      <td>0.034685</td>\n",
       "      <td>0.057745</td>\n",
       "    </tr>\n",
       "  </tbody>\n",
       "</table>\n",
       "</div>"
      ],
      "text/plain": [
       "                             Dog(s)    Cat(s)  Dog(s)-Cat(s)\n",
       "room_type_Shared room     -0.032607  0.009556      -0.042163\n",
       "room_type_Entire home/apt -0.073194 -0.123531       0.050338\n",
       "bedrooms                   0.001076 -0.027177       0.028253\n",
       "room_type_Private room     0.085483  0.122373      -0.036890\n",
       "bathrooms                 -0.012736 -0.023037       0.010301\n",
       "Doorman                   -0.046953 -0.037893      -0.009060\n",
       "ElevatorinBuilding        -0.100460 -0.079183      -0.021277\n",
       "FreeParkingonPremises      0.138818  0.114192       0.024626\n",
       "AirConditioning           -0.093668 -0.093930       0.000262\n",
       "state_MA                  -0.115834 -0.093443      -0.022390\n",
       "state_WA                   0.115923  0.093520       0.022403\n",
       "Pool                      -0.039526 -0.015710      -0.023817\n",
       "Kitchen                   -0.081289 -0.055994      -0.025295\n",
       "review_scores_location     0.011457 -0.014121       0.025579\n",
       "IndoorFireplace            0.092430  0.034685       0.057745"
      ]
     },
     "execution_count": 152,
     "metadata": {},
     "output_type": "execute_result"
    }
   ],
   "source": [
    "# We calculate the difference in the correlations between dogs and cats\n",
    "corr_comb = pd.concat([corr_dogs, corr_cats], axis=1, join='inner')\n",
    "corr_comb['Dog(s)-Cat(s)'] = corr_comb['Dog(s)']- corr_comb['Cat(s)']\n",
    "# show the correlation matrix together with the difference in correlation\n",
    "corr_comb.loc[comb]"
   ]
  },
  {
   "cell_type": "markdown",
   "metadata": {},
   "source": [
    "The table shows the correlations of the features 'Dog(s)' and 'Cat(s)' with the top indicator features for price. The column 'Dog(s)-Cat(s)' is the difference in the correlations.\n",
    "\n",
    "Next we analyse if in average the dog correlations indicate higher prices than the cat correlations."
   ]
  },
  {
   "cell_type": "code",
   "execution_count": 153,
   "metadata": {},
   "outputs": [
    {
     "data": {
      "text/plain": [
       "4.27839587115413"
      ]
     },
     "execution_count": 153,
     "metadata": {},
     "output_type": "execute_result"
    }
   ],
   "source": [
    "# take the dot product of the differences in correlations 'Dog(s)-Cat(s)' with \n",
    "# the top indicator coefficients.\n",
    "np.dot(corr_comb['Dog(s)-Cat(s)'][comb],coefs)"
   ]
  },
  {
   "cell_type": "markdown",
   "metadata": {},
   "source": [
    "For the top indicators, the correlation with dogs points towards higher prices. This is only a simplified example, however, such correlations with dogs may be found for additional, yet hidden features. Thus there may exist hidden features that were not accounted for in the dataset that cause the higher prices for the properties with dogs, instead of the dogs themselfs."
   ]
  },
  {
   "cell_type": "markdown",
   "metadata": {},
   "source": [
    "<font size=\"3\">3) Third business question</font>\n",
    "\n",
    "How well can we predict price?\n",
    "    \n",
    "To answer this question the R-squared score is calculated for predicting property prices based on the best model."
   ]
  },
  {
   "cell_type": "code",
   "execution_count": 154,
   "metadata": {},
   "outputs": [
    {
     "name": "stdout",
     "output_type": "stream",
     "text": [
      "The R-squared score for the test set is: 0.5692277370774905\n"
     ]
    }
   ],
   "source": [
    "# Make predictions on the test set and evaluate the R-squared score\n",
    "y_test_preds = lm_model.predict(X_test)\n",
    "r2_test = r2_score(y_test, y_test_preds)\n",
    "print('The R-squared score for the test set is:', r2_test)"
   ]
  },
  {
   "cell_type": "markdown",
   "metadata": {},
   "source": [
    "The R-squared score is 0.57, which indicates that 57% of the variability in the price is explained by explanatory variables such as amenities, room/property type or state. The model therefore explains the variability of the prices only moderately well. Here only a linear regression model was applied, other model might explain the variability better."
   ]
  },
  {
   "cell_type": "code",
   "execution_count": null,
   "metadata": {},
   "outputs": [],
   "source": []
  }
 ],
 "metadata": {
  "kernelspec": {
   "display_name": "Python 3 (ipykernel)",
   "language": "python",
   "name": "python3"
  },
  "language_info": {
   "codemirror_mode": {
    "name": "ipython",
    "version": 3
   },
   "file_extension": ".py",
   "mimetype": "text/x-python",
   "name": "python",
   "nbconvert_exporter": "python",
   "pygments_lexer": "ipython3",
   "version": "3.9.5"
  }
 },
 "nbformat": 4,
 "nbformat_minor": 4
}
